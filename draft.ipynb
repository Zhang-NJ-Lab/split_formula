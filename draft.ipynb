{
 "cells": [
  {
   "cell_type": "code",
   "execution_count": 21,
   "id": "573dedcf-a19e-4800-b882-9a9a3c50ed98",
   "metadata": {},
   "outputs": [],
   "source": [
    "from itertools import groupby\n",
    "import pandas as pd\n",
    "import re"
   ]
  },
  {
   "cell_type": "code",
   "execution_count": 15,
   "id": "5628b3d8-c8ec-4402-ba4b-db7373c7b712",
   "metadata": {},
   "outputs": [],
   "source": [
    "df = pd.DataFrame([['James', 'P3abc334df34sdf234f'],['Sam', '2.5C'], ['Billy', 'T35'], ['Sarah', 'A85'], ['Felix', '5I']], columns=['Name', 'Section'])"
   ]
  },
  {
   "cell_type": "code",
   "execution_count": 12,
   "id": "3c3fa723-2d54-4271-95bb-62f8005d3fcc",
   "metadata": {},
   "outputs": [
    {
     "data": {
      "text/html": [
       "<div>\n",
       "<style scoped>\n",
       "    .dataframe tbody tr th:only-of-type {\n",
       "        vertical-align: middle;\n",
       "    }\n",
       "\n",
       "    .dataframe tbody tr th {\n",
       "        vertical-align: top;\n",
       "    }\n",
       "\n",
       "    .dataframe thead th {\n",
       "        text-align: right;\n",
       "    }\n",
       "</style>\n",
       "<table border=\"1\" class=\"dataframe\">\n",
       "  <thead>\n",
       "    <tr style=\"text-align: right;\">\n",
       "      <th></th>\n",
       "      <th>Name</th>\n",
       "      <th>Section</th>\n",
       "    </tr>\n",
       "  </thead>\n",
       "  <tbody>\n",
       "    <tr>\n",
       "      <th>0</th>\n",
       "      <td>James</td>\n",
       "      <td>P3</td>\n",
       "    </tr>\n",
       "    <tr>\n",
       "      <th>1</th>\n",
       "      <td>Sam</td>\n",
       "      <td>2.5C</td>\n",
       "    </tr>\n",
       "    <tr>\n",
       "      <th>2</th>\n",
       "      <td>Billy</td>\n",
       "      <td>T35</td>\n",
       "    </tr>\n",
       "    <tr>\n",
       "      <th>3</th>\n",
       "      <td>Sarah</td>\n",
       "      <td>A85</td>\n",
       "    </tr>\n",
       "    <tr>\n",
       "      <th>4</th>\n",
       "      <td>Felix</td>\n",
       "      <td>5I</td>\n",
       "    </tr>\n",
       "  </tbody>\n",
       "</table>\n",
       "</div>"
      ],
      "text/plain": [
       "    Name Section\n",
       "0  James      P3\n",
       "1    Sam    2.5C\n",
       "2  Billy     T35\n",
       "3  Sarah     A85\n",
       "4  Felix      5I"
      ]
     },
     "execution_count": 12,
     "metadata": {},
     "output_type": "execute_result"
    }
   ],
   "source": [
    "df"
   ]
  },
  {
   "cell_type": "code",
   "execution_count": 16,
   "id": "63175f03-f3e4-490e-8d00-2ce74a09bc3b",
   "metadata": {},
   "outputs": [
    {
     "data": {
      "text/html": [
       "<div>\n",
       "<style scoped>\n",
       "    .dataframe tbody tr th:only-of-type {\n",
       "        vertical-align: middle;\n",
       "    }\n",
       "\n",
       "    .dataframe tbody tr th {\n",
       "        vertical-align: top;\n",
       "    }\n",
       "\n",
       "    .dataframe thead th {\n",
       "        text-align: right;\n",
       "    }\n",
       "</style>\n",
       "<table border=\"1\" class=\"dataframe\">\n",
       "  <thead>\n",
       "    <tr style=\"text-align: right;\">\n",
       "      <th></th>\n",
       "      <th>Name</th>\n",
       "      <th>Section</th>\n",
       "      <th>Section_Number</th>\n",
       "      <th>Section_Letter</th>\n",
       "    </tr>\n",
       "  </thead>\n",
       "  <tbody>\n",
       "    <tr>\n",
       "      <th>0</th>\n",
       "      <td>James</td>\n",
       "      <td>P3abc334df34sdf234f</td>\n",
       "      <td>3abc334df34sdf234f</td>\n",
       "      <td>P</td>\n",
       "    </tr>\n",
       "    <tr>\n",
       "      <th>1</th>\n",
       "      <td>Sam</td>\n",
       "      <td>2.5C</td>\n",
       "      <td>2.5</td>\n",
       "      <td>C</td>\n",
       "    </tr>\n",
       "    <tr>\n",
       "      <th>2</th>\n",
       "      <td>Billy</td>\n",
       "      <td>T35</td>\n",
       "      <td>35</td>\n",
       "      <td>T</td>\n",
       "    </tr>\n",
       "    <tr>\n",
       "      <th>3</th>\n",
       "      <td>Sarah</td>\n",
       "      <td>A85</td>\n",
       "      <td>85</td>\n",
       "      <td>A</td>\n",
       "    </tr>\n",
       "    <tr>\n",
       "      <th>4</th>\n",
       "      <td>Felix</td>\n",
       "      <td>5I</td>\n",
       "      <td>5</td>\n",
       "      <td>I</td>\n",
       "    </tr>\n",
       "  </tbody>\n",
       "</table>\n",
       "</div>"
      ],
      "text/plain": [
       "    Name              Section      Section_Number Section_Letter\n",
       "0  James  P3abc334df34sdf234f  3abc334df34sdf234f              P\n",
       "1    Sam                 2.5C                 2.5              C\n",
       "2  Billy                  T35                  35              T\n",
       "3  Sarah                  A85                  85              A\n",
       "4  Felix                   5I                   5              I"
      ]
     },
     "execution_count": 16,
     "metadata": {},
     "output_type": "execute_result"
    }
   ],
   "source": [
    "df['Section_Number'] = df['Section'].str.replace('([A-Z]+)', '')\n",
    "df['Section_Letter'] = df['Section'].str.extract('([A-Z]+)')\n",
    "df"
   ]
  },
  {
   "cell_type": "code",
   "execution_count": 17,
   "id": "7a9cebf6-46c1-4ed4-9149-f916c36d0ec7",
   "metadata": {},
   "outputs": [
    {
     "data": {
      "text/plain": [
       "[['234', '3', '334', '34', 'P', 'abc', 'df', 'f', 'sdf'],\n",
       " ['2.5', 'C'],\n",
       " ['35', 'T'],\n",
       " ['85', 'A'],\n",
       " ['5', 'I']]"
      ]
     },
     "execution_count": 17,
     "metadata": {},
     "output_type": "execute_result"
    }
   ],
   "source": [
    "from itertools import groupby\n",
    "\n",
    "[sorted([''.join(x) for _, x in groupby(s, key=str.isalpha)]) for s in df.Section]\n"
   ]
  },
  {
   "cell_type": "code",
   "execution_count": 26,
   "id": "5651b03c-5541-4cbc-b752-f0d184808ef2",
   "metadata": {},
   "outputs": [],
   "source": [
    "def use_re(s):\n",
    "    return re.findall(r'[\\d]+|[a-zA-Z]+',s)"
   ]
  },
  {
   "cell_type": "code",
   "execution_count": 19,
   "id": "84954e24-9e50-4026-a662-605ca90fd309",
   "metadata": {},
   "outputs": [],
   "source": [
    "l=\"3a4b5cdd7e\""
   ]
  },
  {
   "cell_type": "code",
   "execution_count": 22,
   "id": "39ddf415-7edd-44ea-a6a4-c13313bfc015",
   "metadata": {},
   "outputs": [
    {
     "data": {
      "text/plain": [
       "['3', 'a', '4', 'b', '5', 'cdd', '7', 'e']"
      ]
     },
     "execution_count": 22,
     "metadata": {},
     "output_type": "execute_result"
    }
   ],
   "source": [
    "use_re(l)"
   ]
  },
  {
   "cell_type": "code",
   "execution_count": 28,
   "id": "056fb4ed-626b-4b18-a2c4-ebddff170efd",
   "metadata": {},
   "outputs": [
    {
     "data": {
      "text/plain": [
       "['FA',\n",
       " '2',\n",
       " '1',\n",
       " 'MA',\n",
       " '1',\n",
       " 'APA',\n",
       " '3',\n",
       " 'Pb',\n",
       " '2',\n",
       " 'Sn',\n",
       " '1',\n",
       " 'Cl',\n",
       " '1',\n",
       " 'F',\n",
       " '1',\n",
       " 'I',\n",
       " '3']"
      ]
     },
     "execution_count": 28,
     "metadata": {},
     "output_type": "execute_result"
    }
   ],
   "source": [
    "m=\"FA2.1MA1APA3Pb2Sn1Cl1F1I3\"\n",
    "use_re(m)"
   ]
  },
  {
   "cell_type": "code",
   "execution_count": 29,
   "id": "a7fa494f-fa10-4ae7-a304-44d64d6179fe",
   "metadata": {},
   "outputs": [],
   "source": [
    "def use_re1(s):\n",
    "    return re.findall(r'[\\u00301-\\u0039]+|[a-zA-Z]+',s)"
   ]
  },
  {
   "cell_type": "code",
   "execution_count": 30,
   "id": "fdafcdc5-1669-4bae-b63b-889c72cb87cf",
   "metadata": {},
   "outputs": [
    {
     "data": {
      "text/plain": [
       "['FA',\n",
       " '2',\n",
       " '1',\n",
       " 'MA',\n",
       " '1',\n",
       " 'APA',\n",
       " '3',\n",
       " 'Pb',\n",
       " '2',\n",
       " 'Sn',\n",
       " '1',\n",
       " 'Cl',\n",
       " '1',\n",
       " 'F',\n",
       " '1',\n",
       " 'I',\n",
       " '3']"
      ]
     },
     "execution_count": 30,
     "metadata": {},
     "output_type": "execute_result"
    }
   ],
   "source": [
    "m=\"FA2.1MA1APA3Pb2Sn1Cl1F1I3\"\n",
    "use_re1(m)"
   ]
  },
  {
   "cell_type": "code",
   "execution_count": 41,
   "id": "b75ed4b5-7ccd-4196-891d-35a93c12f675",
   "metadata": {},
   "outputs": [],
   "source": [
    "def use_re1(s):\n",
    "    return re.findall(r'[\\d+<\\.\\d+>?]+|[a-zA-Z]+',s)"
   ]
  },
  {
   "cell_type": "code",
   "execution_count": 42,
   "id": "14f9962b-ef18-4ff5-a0a2-8e62e359473b",
   "metadata": {},
   "outputs": [
    {
     "data": {
      "text/plain": [
       "['FA',\n",
       " '0.2',\n",
       " 'MA',\n",
       " '0.7',\n",
       " 'APA',\n",
       " '0.1',\n",
       " 'Pb',\n",
       " '0.8',\n",
       " 'Sn',\n",
       " '0.2',\n",
       " 'Cl',\n",
       " '0.9',\n",
       " 'F',\n",
       " '1.1',\n",
       " 'I',\n",
       " '1']"
      ]
     },
     "execution_count": 42,
     "metadata": {},
     "output_type": "execute_result"
    }
   ],
   "source": [
    "m=\"FA0.2MA0.7APA0.1Pb0.8Sn0.2Cl0.9F1.1I1\"\n",
    "use_re1(m)"
   ]
  },
  {
   "cell_type": "code",
   "execution_count": 57,
   "id": "3d1cb778-6f7f-452c-accf-69114aac9229",
   "metadata": {},
   "outputs": [],
   "source": [
    "def use_re2(s):\n",
    "    t = re.findall(r'[\\d+<\\.\\d+>?]+|[a-zA-Z]+',s)\n",
    "    u = pd.DataFrame(t)\n",
    "    v = u.T\n",
    "    display(v)"
   ]
  },
  {
   "cell_type": "code",
   "execution_count": 58,
   "id": "e2ddb4ff-dceb-43da-9fa3-fd4b599bbb8b",
   "metadata": {},
   "outputs": [
    {
     "data": {
      "text/html": [
       "<div>\n",
       "<style scoped>\n",
       "    .dataframe tbody tr th:only-of-type {\n",
       "        vertical-align: middle;\n",
       "    }\n",
       "\n",
       "    .dataframe tbody tr th {\n",
       "        vertical-align: top;\n",
       "    }\n",
       "\n",
       "    .dataframe thead th {\n",
       "        text-align: right;\n",
       "    }\n",
       "</style>\n",
       "<table border=\"1\" class=\"dataframe\">\n",
       "  <thead>\n",
       "    <tr style=\"text-align: right;\">\n",
       "      <th></th>\n",
       "      <th>0</th>\n",
       "      <th>1</th>\n",
       "      <th>2</th>\n",
       "      <th>3</th>\n",
       "      <th>4</th>\n",
       "      <th>5</th>\n",
       "      <th>6</th>\n",
       "      <th>7</th>\n",
       "      <th>8</th>\n",
       "      <th>9</th>\n",
       "      <th>10</th>\n",
       "      <th>11</th>\n",
       "      <th>12</th>\n",
       "      <th>13</th>\n",
       "      <th>14</th>\n",
       "      <th>15</th>\n",
       "    </tr>\n",
       "  </thead>\n",
       "  <tbody>\n",
       "    <tr>\n",
       "      <th>0</th>\n",
       "      <td>FA</td>\n",
       "      <td>0.2</td>\n",
       "      <td>MA</td>\n",
       "      <td>0.7</td>\n",
       "      <td>APA</td>\n",
       "      <td>0.1</td>\n",
       "      <td>Pb</td>\n",
       "      <td>0.8</td>\n",
       "      <td>Sn</td>\n",
       "      <td>0.2</td>\n",
       "      <td>Cl</td>\n",
       "      <td>0.9</td>\n",
       "      <td>F</td>\n",
       "      <td>1.1</td>\n",
       "      <td>I</td>\n",
       "      <td>1</td>\n",
       "    </tr>\n",
       "  </tbody>\n",
       "</table>\n",
       "</div>"
      ],
      "text/plain": [
       "   0    1   2    3    4    5   6    7   8    9   10   11 12   13 14 15\n",
       "0  FA  0.2  MA  0.7  APA  0.1  Pb  0.8  Sn  0.2  Cl  0.9  F  1.1  I  1"
      ]
     },
     "metadata": {},
     "output_type": "display_data"
    }
   ],
   "source": [
    "m=\"FA0.2MA0.7APA0.1Pb0.8Sn0.2Cl0.9F1.1I1\"\n",
    "use_re2(m)"
   ]
  },
  {
   "cell_type": "code",
   "execution_count": null,
   "id": "8eb1cc7d-ea55-4d6d-9c2b-bacb535218b0",
   "metadata": {},
   "outputs": [],
   "source": []
  }
 ],
 "metadata": {
  "kernelspec": {
   "display_name": "Python [conda env:py37]",
   "language": "python",
   "name": "conda-env-py37-py"
  },
  "language_info": {
   "codemirror_mode": {
    "name": "ipython",
    "version": 3
   },
   "file_extension": ".py",
   "mimetype": "text/x-python",
   "name": "python",
   "nbconvert_exporter": "python",
   "pygments_lexer": "ipython3",
   "version": "3.7.0"
  }
 },
 "nbformat": 4,
 "nbformat_minor": 5
}
